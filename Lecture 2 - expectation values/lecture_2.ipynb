{
 "cells": [
  {
   "cell_type": "markdown",
   "metadata": {},
   "source": [
    "##### Quantum Data Science 2021/2022\n",
    "## Lecture 2 - Expectation value estimation\n",
    "*Machine Learning with quantum computers -  Section 3.1.3.2*"
   ]
  },
  {
   "cell_type": "markdown",
   "metadata": {},
   "source": [
    "<!-- no toc -->\n",
    "### Contents \n",
    "\n",
    "1. [Introduction](#intro)\n",
    "2. [Important functions](#important)\n",
    "3. [Exercise 1 - single-qubit $\\sigma_z$ expectation value](#single-qubit-z) \n",
    "5. [Exercise 2 - single-qubit $\\sigma_x$ expectation value](#single-qubit-x) \n",
    "4. [Exercise 3 - Two qubit system - single-qubit $\\sigma_z$ expectation value](#two-single-qubit-z) \n",
    "5. [Exercise 4 - n qubit system - $\\sigma_z$ expectation value](#n-qubit-z) \n",
    "6. [Exercise 5 - Two qubit system - $\\sigma_x \\otimes \\sigma_z$ expectation value](#two-qubit-xz) \n",
    "7. [BONUS! The Hamiltonian expectation](#hamiltonian)\n",
    "8. [BONUS! EXERCISE 6 - Hamiltonian](#hamiltonian_1) \n",
    "9. [BONUS! EXERCISE 7 - single-qubit $\\sigma_y$ expectation value](\"single-qubit-y\")"
   ]
  },
  {
   "cell_type": "markdown",
   "metadata": {},
   "source": [
    "### 1. Introduction <a id=\"intro\"></a>\n",
    "\n",
    "Observables of a quantum mechanical system are realized as Hermitian or self-adjoint operators $\\mathcal{M}$ acting on a quantum state $|\\psi\\rangle$. Such self-adjoint operators have a diagonal representation:\n",
    "\n",
    "$$ \\mathcal{M} = \\sum_{k} \\mu_k |\\mu_k \\rangle \\langle \\mu_k| $$\n",
    "\n",
    "As an example, for a single qubit, the computational basis observable is thus constituted by the projector operators $M_0 = |0 \\rangle \\langle 0|$ and $M_1 = |1 \\rangle \\langle 1|$ with each $\\mu_k$ corresponding to the eigenvalues $\\{-1,1\\}$:\n",
    "\n",
    "$$ \\mathcal{\\sigma_z} = |0 \\rangle \\langle 0| - |1 \\rangle \\langle 1|$$\n",
    "\n",
    "For a pure state $|\\psi\\rangle$ the expectation value of a given observable $\\mathcal{M}$ is given by the expression: \n",
    "\n",
    "$$ \\langle \\mathcal{M} \\rangle = \\langle \\psi | \\mathcal{M} | \\psi \\rangle"
   ]
  },
  {
   "cell_type": "markdown",
   "metadata": {},
   "source": [
    "### 2. Important functions <a id=\"important\"></a>"
   ]
  },
  {
   "cell_type": "code",
   "execution_count": 2,
   "metadata": {},
   "outputs": [],
   "source": [
    "from qiskit import QuantumCircuit, ClassicalRegister, QuantumRegister, Aer, execute, transpile\n",
    "import matplotlib.pyplot as plt\n",
    "%matplotlib inline\n",
    "import numpy as np"
   ]
  },
  {
   "cell_type": "code",
   "execution_count": 6,
   "metadata": {},
   "outputs": [],
   "source": [
    "def execute_circuit(qc, shots=1024, device=None):\n",
    "    if device is None:\n",
    "        device = Aer.get_backend('qasm_simulator')\n",
    "    else:\n",
    "        device = device\n",
    "    \n",
    "    circ_trans = transpile(qc,device)\n",
    "    counts = device.run(circ_trans, shots=shots).result().get_counts()\n",
    "\n",
    "    return counts"
   ]
  },
  {
   "cell_type": "code",
   "execution_count": 24,
   "metadata": {},
   "outputs": [],
   "source": [
    "\n",
    "def basis_states_probs(counts, shots=1024, n_qubits=1):\n",
    "   probs = []\n",
    "   basis_states = [np.binary_repr(i,width=n_qubits) for i in range(2**n_qubits)]\n",
    "\n",
    "   for b in basis_states:\n",
    "      c = counts.get(b)\n",
    "      if c is None:\n",
    "         probs.append(0)\n",
    "      else:\n",
    "         probs.append(counts[b]/shots)\n",
    "\n",
    "\n",
    "   return probs"
   ]
  },
  {
   "cell_type": "markdown",
   "metadata": {},
   "source": [
    "#### <span style=\"color: red;\">EXERCISE 1:</span> <a id=\"single-qubit-z\"></a>\n",
    "For an arbitrary single-qubit state $|\\psi\\rangle = cos(\\frac{\\theta}{2})|0\\rangle + sin(\\frac{\\theta}{2})|1\\rangle$ , prove that the computational basis expectation value $\\langle \\sigma_z \\rangle$ is given by: \n",
    "\n",
    "$$\\langle \\sigma_z \\rangle = \\langle \\psi|\\sigma_z| \\psi \\rangle = cos^2 \\left(\\frac{\\theta}{2}\\right) - sin^2 \\left(\\frac{\\theta}{2}\\right)$$\n",
    "\n",
    "and compute the expectation value for $\\theta = \\pi$ from executing the quantum circuit.  "
   ]
  },
  {
   "cell_type": "code",
   "execution_count": null,
   "metadata": {},
   "outputs": [],
   "source": [
    "def single_qubit_sigma_z_expval():\n",
    "    \n",
    "    expval_z = 0\n",
    "    \n",
    "    ### YOUR CODE HERE ###\n",
    "\n",
    "    return expval_z"
   ]
  },
  {
   "cell_type": "markdown",
   "metadata": {},
   "source": [
    "#### <span style=\"color: red;\">EXERCISE 2:</span> <a id=\"single-qubit-x\"></a>\n",
    "\n",
    "For an arbitrary single-qubit state $|\\psi\\rangle = cos(\\frac{\\theta}{2})|0\\rangle + sin(\\frac{\\theta}{2})|1\\rangle$ , prove that the expectation value $\\langle \\sigma_x \\rangle$ is given by: \n",
    "\n",
    "$$\\langle \\sigma_x \\rangle = \\langle \\psi|\\sigma_x| \\psi \\rangle = 2 cos \\left(\\frac{\\theta}{2}\\right) sin \\left(\\frac{\\theta}{2}\\right)$$\n",
    "\n",
    "and compute the expectation value for $\\theta = \\pi$ from executing the quantum circuit.  "
   ]
  },
  {
   "cell_type": "code",
   "execution_count": null,
   "metadata": {},
   "outputs": [],
   "source": [
    "def single_qubit_sigma_x_expval():\n",
    "    \n",
    "    expval_x = 0\n",
    "    \n",
    "    ### YOUR CODE HERE ###\n",
    "\n",
    "    return expval_x"
   ]
  },
  {
   "cell_type": "markdown",
   "metadata": {},
   "source": [
    "#### <span style=\"color: red;\">EXERCISE 3:</span> <a id=\"two-single-qubit-z\"></a>\n",
    "\n",
    "For an arbitrary two-qubit state $|\\psi\\rangle$ , prove that the expectation value $\\langle I \\otimes \\sigma_z \\rangle$ is given by: \n",
    "\n",
    "$$\\langle I \\otimes \\sigma_z \\rangle = \\langle \\psi|I \\otimes \\sigma_z| \\psi \\rangle = P_{00} - P_{01} + P_{10} - P_{11}$$\n",
    "\n",
    "where $P_{ij}$ is the probability associated with basis states $|ij\\rangle$."
   ]
  },
  {
   "cell_type": "markdown",
   "metadata": {},
   "source": [
    "#### <span style=\"color: red;\">EXERCISE 4:</span> <a id=\"n-qubit-z\"></a>\n",
    "For an arbitrary $n$-qubit state $|\\psi\\rangle$ , prove that the expectation value of the bitstring operator $O = \\sigma_{z_0} \\otimes \\sigma_{z_1} \\otimes \\dots \\otimes \\sigma_{z_{n-1}}$ is given by: \n",
    "\n",
    "$$\\langle O \\rangle = \\langle \\psi|O| \\psi \\rangle = \\sum_{i=0}^{2^n -1} (-1)^{H(i)\\ mod\\ 2} P_i$$\n",
    "\n",
    "where $P_{i}$ and $H(i)$ are the probability and *Hamming weight*, associated to basis state $|i\\rangle$.\n",
    "\n",
    "Note: Hamming weight - # of ones in a bitstring.  \n",
    "\n",
    "Compute the expectation value $\\langle \\psi|O| \\psi \\rangle$ for the the state $|\\psi\\rangle = \\sqrt{0.7}|001\\rangle + \\sqrt{0.3}|010\\rangle$ from executing the quantum circuit.  "
   ]
  },
  {
   "cell_type": "code",
   "execution_count": null,
   "metadata": {},
   "outputs": [],
   "source": [
    "def sigma_z_expval():\n",
    "    \n",
    "    expval_z = 0\n",
    "    \n",
    "    ### YOUR CODE HERE ###\n",
    "\n",
    "    return expval_z"
   ]
  },
  {
   "cell_type": "markdown",
   "metadata": {},
   "source": [
    "#### <span style=\"color: red;\">EXERCISE 5:</span> <a id=\"two-qubit-xz\"></a>\n",
    "\n",
    "For an arbitrary two-qubit state $|\\psi\\rangle$ prove that the tensor observable $\\langle \\sigma_x \\otimes \\sigma_z \\rangle$ is given by:\n",
    "\n",
    "$$\\langle \\sigma_x \\otimes \\sigma_z \\rangle = \\langle \\psi|\\sigma_x \\otimes \\sigma_z| \\psi \\rangle = P_{00}^{\\psi'} - P_{01}^{\\psi'} - P_{10}^{\\psi'} + P_{11}^{\\psi'}$$ \n",
    "\n",
    "where $P_{ij}^{\\psi'}$ is the probability associated to state $|\\psi'\\rangle$ which is different from the initial state $|\\psi\\rangle$. What is the state $|\\psi'\\rangle$?\n",
    "\n",
    "Hint: Notice that we only have acess to computational basis measurements in qiskit ! Change of basis ?\n",
    "\n",
    "Compute the expectation value of the tensor observable for the state $|\\psi\\rangle = \\sqrt{0.7}|01\\rangle + \\sqrt{0.3}|10\\rangle$"
   ]
  },
  {
   "cell_type": "code",
   "execution_count": null,
   "metadata": {},
   "outputs": [],
   "source": [
    "def sigma_xz_expval():\n",
    "    expval_zz = 0\n",
    "    \n",
    "    ### YOUR CODE HERE ###\n",
    "\n",
    "    return expval_zz"
   ]
  },
  {
   "cell_type": "markdown",
   "metadata": {},
   "source": [
    "#### We can use qiskit to compute expectation values of arbitrary observables without computing everything by hand "
   ]
  },
  {
   "cell_type": "code",
   "execution_count": 4,
   "metadata": {},
   "outputs": [
    {
     "name": "stdout",
     "output_type": "stream",
     "text": [
      "Expectation value estimated - 0.0\n"
     ]
    },
    {
     "name": "stderr",
     "output_type": "stream",
     "text": [
      "/opt/homebrew/Caskroom/miniforge/base/envs/quantum_DS/lib/python3.10/site-packages/numpy/linalg/linalg.py:2158: RuntimeWarning: divide by zero encountered in det\n",
      "  r = _umath_linalg.det(a, signature=signature)\n",
      "/opt/homebrew/Caskroom/miniforge/base/envs/quantum_DS/lib/python3.10/site-packages/numpy/linalg/linalg.py:2158: RuntimeWarning: invalid value encountered in det\n",
      "  r = _umath_linalg.det(a, signature=signature)\n"
     ]
    }
   ],
   "source": [
    "from qiskit.opflow import PauliExpectation, CircuitSampler, StateFn, CircuitOp, CircuitStateFn\n",
    "from qiskit.utils import QuantumInstance\n",
    "\n",
    "# define your backend or quantum instance (where you can add settings)\n",
    "backend = Aer.get_backend('qasm_simulator') \n",
    "q_instance = QuantumInstance(backend, shots=1024)\n",
    "\n",
    "\n",
    "expval_z = 0\n",
    "n_qubits=2\n",
    "\n",
    "#DEFINE STATE \n",
    "theta = np.arcsin(np.sqrt(0.3))\n",
    "qr = QuantumRegister(n_qubits)\n",
    "psi = QuantumCircuit(qr)\n",
    "\n",
    "psi.ry(2*theta , qr[0])\n",
    "psi.x(qr[0])\n",
    "psi.cx(qr[0],qr[1])\n",
    "psi.x(qr[0])\n",
    "\n",
    "#Define the state that we want \n",
    "psi = CircuitStateFn(psi)\n",
    "\n",
    "#DEFINE OBSERVABLE via CircuitOp\n",
    "circuit = QuantumCircuit(2)\n",
    "circuit.x(0)\n",
    "circuit.z(1)\n",
    "observable = CircuitOp(circuit)\n",
    "\n",
    "# define the state to sample \n",
    "measurable_expression = StateFn(observable, is_measurement=True).compose(psi) \n",
    "\n",
    "# convert to expectation value - The expression <psi|M|psi>\n",
    "expectation = PauliExpectation().convert(measurable_expression)  \n",
    "\n",
    "# get state sampler (you can also pass the backend directly)\n",
    "sampler = CircuitSampler(q_instance).convert(expectation) \n",
    "\n",
    "# evaluate\n",
    "print(\"Expectation value estimated - {}\".format(sampler.eval().real))  "
   ]
  },
  {
   "cell_type": "markdown",
   "metadata": {},
   "source": [
    "#### <span style=\"color: red;\">The Hamiltonian problem</span> <a id=\"hamiltonian\"></a>\n",
    "\n",
    "Consider we have the Hamiltonian:\n",
    "\n",
    "$$ H = \\sum_{i} c_i h_i$$ \n",
    "\n",
    "where $h_i$ is written as a tensor product of Pauli operators or the identity acting on the $n$ qubits of the quantum system. Specifically, $h_i$ is written as: \n",
    "\n",
    "$$ h_i = \\bigotimes_{j=1}^{n} P_j$$ \n",
    "\n",
    "where $P_j \\in \\{I, \\sigma_x, \\sigma_y, \\sigma_z\\}$. $c_i$ is simply a constant value."
   ]
  },
  {
   "cell_type": "markdown",
   "metadata": {},
   "source": [
    "#### <span style=\"color: red;\">BONUS! EXERCISE 6:</span> <a id=\"two-qubit-xz\"></a> The Hamiltonian expectation: \n",
    "\n",
    "For an arbitrary Hamiltonian $H$ acting on arbitrary state $|\\psi\\rangle$, prove that its expectation value $\\langle H \\rangle$ is given by: \n",
    "\n",
    "$$ \\langle H \\rangle = \\sum_{i} c_i \\langle \\psi | h_i | \\psi \\rangle$$\n",
    "\n",
    "Compute the expectation value of the Hamiltonian $H = 2\\sigma_z \\sigma_z \\sigma_z + 2\\sigma_x \\sigma_x \\sigma_x$ acting on state $|\\psi\\rangle = \\sqrt{0.3}|001\\rangle + \\sqrt{0.7}|010\\rangle$\n"
   ]
  },
  {
   "cell_type": "code",
   "execution_count": null,
   "metadata": {},
   "outputs": [],
   "source": [
    "# function receive as input the quantum circuit (qc) and the Hamiltonian (H)\n",
    "# create the Hamiltonian H as a list with constant and a binary string of pauli operators e.g. H = [(c_1,\"xxx\") , (c_2,\"xyz\"), ...]\n",
    "def hamiltonian_1_expval(qc, H): \n",
    "    expval = 0\n",
    "\n",
    "    ### YOUR CODE HERE ###\n",
    "\n",
    "    return expval    "
   ]
  },
  {
   "cell_type": "code",
   "execution_count": null,
   "metadata": {},
   "outputs": [],
   "source": [
    "n_qubits = \n",
    "\n",
    "qc = QuantumCircuit()\n",
    "\n",
    "H = []\n",
    "\n",
    "h_expval = hamiltonian_1_expval(qc,H)\n",
    "\n",
    "print(\"The Hamiltonian expctation is {}\".format(h_expval))"
   ]
  },
  {
   "cell_type": "markdown",
   "metadata": {},
   "source": [
    "#### <span style=\"color: red;\">EXERCISE 7: </span> <a id=\"single-qubit-y\"></a>\n",
    "\n",
    "Compute the expectation value of the observable $\\sigma_y$ for the quantum state $|\\psi\\rangle = e^{i\\pi}\\sqrt{0.2}|0\\rangle + \\sqrt{0.8}|1\\rangle$\n",
    "\n",
    "\n",
    "<p align=\"center\">\n",
    "  <img width=\"400\" height=\"400\" src=\"images/gates.png\">\n",
    "</p>"
   ]
  },
  {
   "cell_type": "code",
   "execution_count": null,
   "metadata": {},
   "outputs": [],
   "source": []
  },
  {
   "cell_type": "markdown",
   "metadata": {},
   "source": [
    "##### Done ! Ciao for now! :) "
   ]
  }
 ],
 "metadata": {
  "interpreter": {
   "hash": "62314c999a2395b70c6666201aadb026cfae52075e045b8f587202e06e575832"
  },
  "kernelspec": {
   "display_name": "Python 3.10.1 64-bit ('quantum_DS': conda)",
   "language": "python",
   "name": "python3"
  },
  "language_info": {
   "codemirror_mode": {
    "name": "ipython",
    "version": 3
   },
   "file_extension": ".py",
   "mimetype": "text/x-python",
   "name": "python",
   "nbconvert_exporter": "python",
   "pygments_lexer": "ipython3",
   "version": "3.10.1"
  },
  "orig_nbformat": 4
 },
 "nbformat": 4,
 "nbformat_minor": 2
}
