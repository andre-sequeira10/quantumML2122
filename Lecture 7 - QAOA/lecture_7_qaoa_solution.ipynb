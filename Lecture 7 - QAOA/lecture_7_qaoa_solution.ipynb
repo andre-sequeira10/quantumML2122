{
 "cells": [
  {
   "cell_type": "markdown",
   "metadata": {},
   "source": [
    "##### Quantum Data Science 2021/2022\n",
    "# Lecture 7 - Quantum Approximate Optimization Algorithm (QAOA)\n",
    "*Machine Learning with quantum computers -  Section 3.6.5.2*"
   ]
  },
  {
   "cell_type": "markdown",
   "metadata": {},
   "source": [
    "<!-- no toc -->\n",
    "### Contents \n",
    "\n",
    "1. [From Adiabatic Optimization to QAOA](#intro)\n",
    "2. [The QAOA circuit](#qaoa_circuit)\n",
    "3. [Caveats](#caveats)\n",
    "4. [The MaxCut problem](#maxcut)\n",
    "5. [QAOA for MaxCut](#qaoa_maxcut)\n",
    "6. [References](#references)"
   ]
  },
  {
   "cell_type": "markdown",
   "metadata": {},
   "source": [
    "\n",
    "## 1. From Adiabatic Optimization to QAOA\n",
    "<a id=\"intro\"></a>"
   ]
  },
  {
   "cell_type": "markdown",
   "metadata": {},
   "source": [
    "### Quantum Adiabatic Optimization \n",
    "\n",
    "Suppose we have a Hamiltonian $H_p$ whose ground state encodes the solution of a given problem of interest. If we prepare a quantum system in the ground state of a given hamiltonian $H_0$ that **does not** commute with $H_p$, then the *adiabatic theorem* of quantum mechanics says that if we evolve the quantum system with the Hamiltonian \n",
    "\n",
    "$$ H(t) = (1 - \\frac{t}{T}) H_0 + \\frac{t}{T} H_p$$ \n",
    "\n",
    "For time $T$ *slowly* enough, then the system will converge to the ground state of the problem Hamiltonian, and we will be able to measure the solution to our problem. \n",
    "Recall that the time evolution of a quantum system is given by solving the schrodinger equation: \n",
    "\n",
    "\\begin{align*}\n",
    " i \\hbar \\frac{d}{dt}|\\psi(t) \\rangle &= H|\\psi(t)\\rangle \\\\ \n",
    " |\\psi(t) \\rangle &= e^{\\frac{-iHt}{\\hbar}} |\\psi(0)\\rangle\n",
    "\\end{align*}\n",
    "\n",
    "Remember this ! It will be important!\n",
    "\n",
    "Now, there are two questions: \n",
    " * How do we embed a problem of interest into a Hamiltonian? Moreover, what types of problems can we solve ? \n",
    " * What is the initial Hamiltonian $H_0$ ? \n",
    "\n",
    "There are numerous ways of constructing problem hamiltonians, depending on the class of problems we are working. Essentially, any problem that can be mapped to a *satisfiability* problem can be \"tried\" to be solved using adiabatic evolution! *Quadratic Unconstrained Binary Optimization (QUBO)* is the most used class of problems since they can be mapped to the well-known *Ising model*, which is well established in terms of the correspondent hamiltonian, having at most two-qubit interactions. Check reference **[1]** to learn more about translating problems into Ising models. \n",
    "\n",
    "$H_0$ is regarded as a simple initial hamiltonian that we can prepare, and we know its ground state.\n",
    "\n",
    "### How can we translate adiabatic optimization to the circuit model of quantum computing?\n",
    "\n",
    "Notice that the quantum evolution is given by a unitary $U = e^{\\frac{-iHt}{\\hbar}}$. Now, the Hamiltonian is composed of two terms, $H_0$ and $H_p$ composed of matrices (Pauli matrices). Let us ignore time and plank's constant for now. We can separate the exponential of a sum of matrices by the product of the terms individually: \n",
    "\n",
    "$$e^H = e^{H_0 + H_p} = e^{H_0} e^{H_p}$$\n",
    "\n",
    "However, this is true **only** when $H_0$ and $H_p$ commute. Nonetheless, we can approximate it using the **Trotter-suzuki** formula: \n",
    "\n",
    "$$ e^H = e^{H_0 + H_p} \\approx (e^{\\frac{H_0}{p}} e^{\\frac{H_p}{p}})^p$$\n",
    "\n",
    "The approximation converges in the limit of $\\infty$ $p$. \n",
    "\n",
    "##### Still keep in mind that perhaps we do not need $\\infty$ $p$ to have a fairly good approximation for our purposes!!!\n",
    "\n",
    "Now, the exponential of Pauli matrices forms rotation matrices. \n",
    "\n",
    "<p align=\"center\">\n",
    " <img width=\"800\" height=\"350\" src=\"images/matrix_exp.png\">\n",
    "</p>\n",
    "\n",
    "Thus, we just need to repeat these unitaries $p$ times in our quantum circuit. \n",
    "\n",
    "<p align=\"center\">\n",
    " <img width=\"500\" height=\"200\" src=\"images/trotter.png\">\n",
    "</p>\n",
    "\n",
    "The difficulty lies in designing the time $t$ in the circuit model. For that reason, we will consider parameters $\\alpha$ and $\\beta$ that will be variationally optimized to converge to the ground state of our problem hamiltonian. \n",
    "\n",
    "<p align=\"center\">\n",
    " <img width=\"500\" height=\"200\" src=\"images/alphas_betas.png\">\n",
    "</p>\n",
    "\n",
    "### At this point, we almost have the QAOA circuit. The initial Hamiltonian $H_0$, is the only thing it is missing.\n",
    "\n",
    "$H_0$ is usually regarded as a series of Pauli $\\sigma_x$ gates on each qubit, in which the exponential transforms them into rotation gates of the form $R_x(2\\beta)$. This form of $H_0$ is considered since we know how to create the ground state. You see, the ground state corresponds simply to the uniform superposition state! \n",
    "\n",
    "At this point, we arrived at the final form of the QAOA circuit, motivating each block! "
   ]
  },
  {
   "cell_type": "markdown",
   "metadata": {},
   "source": [
    "### 2. The QAOA circuit <a id=\"qaoa_circuit\"></a>\n",
    "\n",
    "In the QAOA literature the two blocks are known as:\n",
    "  - $H_p$ - Problem Hamiltonian \n",
    "  - $H_0$ - Mixer Hamiltonian\n",
    "  \n",
    "<p align=\"center\">\n",
    "  <img width=\"600\" height=\"200\" src=\"images/qaoa.png\">\n",
    "</p>\n",
    "\n",
    "Suppose the state prepared by the QAOA circuit $|\\psi(\\alpha,\\beta)\\rangle$. Now we can variationally optimize the parameters $(\\alpha,\\beta)$ to obtain the ground state of the problem hamiltonian. Remember that the ground state encodes the solution of our problem of interest! \n",
    "\n",
    "Usually, since we start from the uniform superposition, $H_p$ is usually composed by rotations in $Z$. Thus what that we need to do in order to find the ground state, is to minimize the expectation value of the problem Hamiltonian $H_p$.\n",
    "\n",
    "$$ (\\alpha^*,\\beta^*) \\leftarrow \\argmin_{\\alpha,\\beta} \\langle \\psi(\\alpha,\\beta)|H_p|\\psi(\\alpha,\\beta)\\rangle$$\n",
    "\n",
    "At the end of the optimization procedure, the basis state with highest probability, correspond to the solution to our problem! "
   ]
  },
  {
   "cell_type": "markdown",
   "metadata": {},
   "source": [
    "### 3. Caveats <a id=\"caveats\"></a>\n",
    "\n",
    "- sampling from even for small circuit depths $p$ is classically intractable, which gives this model a potential exponential quantum advantage.\n",
    "- QAOA performance should increase with an increasing number of layers $p$\n",
    "- However, QAOA has no performance guarantees for finite $p$ \n",
    "- Limited device connectivity , so complex hamiltonians might neglect any possible advantage. \n",
    "- Increasing number of shots and iterations for increasing problem size. "
   ]
  },
  {
   "cell_type": "markdown",
   "metadata": {},
   "source": [
    "### 4. The MaxCut problem <a id=\"maxcut\"></a>\n",
    "\n",
    "A Max-Cut problem involves partitioning nodes of a graph into two sets, such that the number of edges between the sets is maximum. We can use networkx to create graphs. Below is an example of a graph with 5 nodes, and an example of a partition between \"purple\" and \"blue\" nodes"
   ]
  },
  {
   "cell_type": "code",
   "execution_count": 37,
   "metadata": {},
   "outputs": [
    {
     "data": {
      "image/png": "[encoded data removed]",
      "text/plain": [
       "<Figure size 432x288 with 1 Axes>"
      ]
     },
     "metadata": {},
     "output_type": "display_data"
    }
   ],
   "source": [
    "import networkx as nx\n",
    "\n",
    "n_qubits = 4\n",
    "\n",
    "G = nx.Graph()\n",
    "G.add_nodes_from(list(range(n_qubits)))\n",
    "G.add_edges_from([(0, 1), (1, 2), (2, 3), (3, 0)])\n",
    "nx.draw(G, with_labels=True, node_color=[\"purple\",\"purple\",\"purple\",\"blue\"],node_size=500)\n"
   ]
  },
  {
   "cell_type": "markdown",
   "metadata": {},
   "source": [
    "In this case, for 4 nodes, as each node can be assigned to either the \"purple\" or \"blue\" sets. There are $2^4 = 16$ possible assignments. In the graph above, there are 2 edges connecting the two sets. Thus, the cut is 2. The goal is to maximize the number of edges between sets, hence maximum cut. \n",
    "\n",
    "\n",
    "<p align=\"center\">\n",
    "  <img width=\"900\" height=\"350\" src=\"images/maxcut.jpeg\">\n",
    "</p>\n",
    "\n",
    "For a graph with 4 nodes, the maximum cut corresponds to an alternated bitstring Eg: 1010\n",
    "\n",
    "Let's consider the adjacency matrix for the graph: \n",
    "\n",
    "\\begin{equation*}\n",
    "    A_{ij} = \n",
    "    \\begin{pmatrix}\n",
    "    0 & 1 & 0 & 1\\\\\n",
    "    1 & 0 & 1 & 0\\\\\n",
    "    0 & 1 & 0 & 1\\\\\n",
    "    1 & 0 & 1 & 0\n",
    "    \\end{pmatrix}\n",
    "\\end{equation*}\n",
    "\n",
    "In a general *weighted undirected graph*, we have an adjacency matrix:\n",
    "\n",
    "\n",
    "\\begin{equation*}\n",
    "    A_{ij} = \n",
    "    \\begin{pmatrix}\n",
    "    w_{00} & w_{01} & w_{02} & w_{03}\\\\\n",
    "    w_{10} & w_{11} & w_{12} & w_{13}\\\\\n",
    "    w_{20} & w_{21} & w_{22} & w_{23}\\\\\n",
    "    w_{30} & w_{31} & w_{32} & w_{33}\n",
    "    \\end{pmatrix}\n",
    "\\end{equation*}\n",
    "\n",
    "You can obtain the adjacency matrix from networkx:\n"
   ]
  },
  {
   "cell_type": "code",
   "execution_count": 38,
   "metadata": {},
   "outputs": [
    {
     "name": "stdout",
     "output_type": "stream",
     "text": [
      "[[0 1 0 1]\n",
      " [1 0 1 0]\n",
      " [0 1 0 1]\n",
      " [1 0 1 0]]\n"
     ]
    }
   ],
   "source": [
    "A = nx.adjacency_matrix(G).todense()\n",
    "print(A)\n"
   ]
  },
  {
   "cell_type": "markdown",
   "metadata": {},
   "source": [
    "The MaxCut problem can be solved by maximizing the following cost:\n",
    "\n",
    "$$ C(x) = \\sum_{i,j} w_{ij} x_i(1-x_j)$$ \n",
    "\n",
    "i.e. find the bitstring x that maximizes the cut "
   ]
  },
  {
   "cell_type": "markdown",
   "metadata": {},
   "source": [
    "In order to translate the the cost into a Hamiltonian we apply:\n",
    "\n",
    "$$ \\sigma_{z_i}|x\\rangle = (-1)^{x_i}|x\\rangle $$\n",
    "\n",
    "and solve for $x_i$. If we do that we find an expression in terms of $\\sigma_{z}$ operators, interacting with each qubit.\n",
    "\n",
    "For the graph above: \n",
    "\n",
    "$$ H_p = \\frac{1}{2}(\\sigma_{z_0} \\otimes \\sigma_{z_1} \\mathbb{I}_2 \\otimes \\mathbb{I}_3) + \\frac{1}{2}(\\mathbb{I}_0 \\otimes \\sigma_{z_1} \\otimes \\sigma_{z_2} \\otimes \\mathbb{I}_3) + \\frac{1}{2}(\\sigma_{z_0} \\otimes \\mathbb{I}_1 \\otimes \\mathbb{I}_2 \\otimes \\sigma_{z_3}) + \\frac{1}{2}(\\mathbb{I}_0 \\otimes \\mathbb{I}_1 \\otimes \\sigma_{z_2} \\otimes \\sigma_{z_3}) $$\n"
   ]
  },
  {
   "cell_type": "markdown",
   "metadata": {},
   "source": [
    "### Libraries and functions "
   ]
  },
  {
   "cell_type": "code",
   "execution_count": 10,
   "metadata": {},
   "outputs": [],
   "source": [
    "from qiskit import QuantumCircuit, ClassicalRegister, QuantumRegister, Aer, execute, transpile\n",
    "from qiskit.circuit import Parameter\n",
    "from qiskit.visualization import plot_histogram\n",
    "import matplotlib.pyplot as plt\n",
    "%matplotlib inline\n",
    "import numpy as np\n",
    "from qiskit.opflow import PauliExpectation, CircuitSampler, StateFn, CircuitOp, CircuitStateFn\n",
    "from qiskit.utils import QuantumInstance"
   ]
  },
  {
   "cell_type": "code",
   "execution_count": 11,
   "metadata": {},
   "outputs": [],
   "source": [
    "### EXECUTE CIRCUIT ###\n",
    "def execute_circuit(qc, shots=1024, device=None, decimal=False):\n",
    "    if device is None:\n",
    "        device = Aer.get_backend('qasm_simulator')\n",
    "    else:\n",
    "        device = device\n",
    "    \n",
    "    counts = device.run(qc, shots=shots).result().get_counts()\n",
    "    \n",
    "    if decimal:\n",
    "        counts = dict((int(a[::-1],2),b) for (a,b) in counts.items())\n",
    "    else:\n",
    "        counts = dict((a[::-1],b) for (a,b) in counts.items())\n",
    "\n",
    "    return counts\n",
    "\n",
    "### BASIS STATES PROBABILITIES ###\n",
    "def basis_states_probs(counts, shots=1024, decimal=False, n_qubits=1):\n",
    "    probs = []\n",
    "   \n",
    "    if decimal:\n",
    "        basis_states = list(range(2**n_qubits))\n",
    "    else:\n",
    "        basis_states = [np.binary_repr(i,width=n_qubits) for i in range(2**n_qubits)]\n",
    "\n",
    "    for b in basis_states:\n",
    "        c = counts.get(b)\n",
    "        if c is None:\n",
    "            probs.append(0)\n",
    "        else:\n",
    "            probs.append(counts[b]/shots)\n",
    "    \n",
    "    return probs\n"
   ]
  },
  {
   "cell_type": "markdown",
   "metadata": {},
   "source": [
    "<span style=\"color: red;\">EXERCISE 4.1</span> - Implement the quantum circuit for the MaxCut problem Hamiltonian. Notice that you don't need to include rotations in the circuit that with zero angle. "
   ]
  },
  {
   "cell_type": "code",
   "execution_count": 11,
   "metadata": {},
   "outputs": [
    {
     "ename": "SyntaxError",
     "evalue": "invalid syntax (4293707420.py, line 4)",
     "output_type": "error",
     "traceback": [
      "\u001b[0;36m  File \u001b[0;32m\"/var/folders/n9/tdqdt7991733xw39nzh49y600000gn/T/ipykernel_97065/4293707420.py\"\u001b[0;36m, line \u001b[0;32m4\u001b[0m\n\u001b[0;31m    n_qubits =\u001b[0m\n\u001b[0m               ^\u001b[0m\n\u001b[0;31mSyntaxError\u001b[0m\u001b[0;31m:\u001b[0m invalid syntax\n"
     ]
    }
   ],
   "source": [
    "# G -> graph || A -> Adjacency matrix || alpha -> parameter \n",
    "# alpha=1 to be neglected. However, when we have variational circuit, alpha will be a parameter passed as argument to the function\n",
    "def problem_hamiltonian(G, A, alpha=1):\n",
    "    n_qubits = \n",
    "    qr = QuantumRegister()\n",
    "    qc = QuantumCircuit()\n",
    "    return qc"
   ]
  },
  {
   "cell_type": "code",
   "execution_count": 102,
   "metadata": {},
   "outputs": [],
   "source": [
    "# G -> graph || A -> Adjacency matrix || alpha -> parameter \n",
    "# alpha=1 to be neglected. However, when we have variational circuit, alpha will be a parameter passed as argument to the function\n",
    "\n",
    "### SOLUTION ###\n",
    "def problem_hamiltonian(G, A, alpha=1):\n",
    "\n",
    "    n_qubits = G.number_of_nodes()\n",
    "\n",
    "    nodes = QuantumRegister(n_qubits)\n",
    "    qc = QuantumCircuit(nodes, name=\"$H_p$\")\n",
    "\n",
    "    for n0,n1 in list(G.edges()):\n",
    "        w = A[n0,n1]\n",
    "        if n0!=n1 and w:\n",
    "                qc.rzz(2*alpha*w, n0, n1)\n",
    "    \n",
    "    qc.barrier()\n",
    "    \n",
    "    return qc"
   ]
  },
  {
   "cell_type": "code",
   "execution_count": 103,
   "metadata": {},
   "outputs": [
    {
     "data": {
      "image/png": "[encoded data removed]",
      "text/plain": [
       "<Figure size 861.938x264.88 with 1 Axes>"
      ]
     },
     "execution_count": 103,
     "metadata": {},
     "output_type": "execute_result"
    }
   ],
   "source": [
    "alpha = Parameter(\"$\\\\alpha$\")\n",
    "qc = problem_hamiltonian(G,A,alpha=alpha)\n",
    "qc.decompose().draw(output=\"mpl\")"
   ]
  },
  {
   "cell_type": "markdown",
   "metadata": {},
   "source": [
    "### 5. QAOA algorithm <a id=\"qaoa_maxcut\"></a>"
   ]
  },
  {
   "cell_type": "markdown",
   "metadata": {},
   "source": [
    "<span style=\"color: red;\">EXERCISE 5.1</span> - Implement the quantum circuit for the QAOA *general* initial Hamiltonian."
   ]
  },
  {
   "cell_type": "code",
   "execution_count": 7,
   "metadata": {},
   "outputs": [],
   "source": [
    "def initial_hamiltonian(n_qubits, beta=1):\n",
    "    qc = QuantumCircuit()\n",
    "    \n",
    "    return qc"
   ]
  },
  {
   "cell_type": "code",
   "execution_count": 13,
   "metadata": {},
   "outputs": [],
   "source": [
    "### Solution ###\n",
    "def initial_hamiltonian(n_qubits=1, beta=1):\n",
    "    qc = QuantumCircuit(n_qubits, name=\"$H_0$\")\n",
    "    qc.rx(2*beta, range(n_qubits))\n",
    "\n",
    "    return qc"
   ]
  },
  {
   "cell_type": "code",
   "execution_count": 8,
   "metadata": {},
   "outputs": [
    {
     "data": {
      "image/png": "[encoded data removed]",
      "text/plain": [
       "<Figure size 146.797x264.88 with 1 Axes>"
      ]
     },
     "execution_count": 8,
     "metadata": {},
     "output_type": "execute_result"
    }
   ],
   "source": [
    "n_qubits = 4\n",
    "\n",
    "beta = Parameter(\"$\\\\beta$\")\n",
    "qc = initial_hamiltonian(n_qubits, beta=beta)\n",
    "\n",
    "qc.decompose().draw(output=\"mpl\")"
   ]
  },
  {
   "cell_type": "markdown",
   "metadata": {},
   "source": [
    "<span style=\"color: red;\">EXERCISE 5.2</span> - Implement the quantum circuit for the QAOA initial state."
   ]
  },
  {
   "cell_type": "code",
   "execution_count": null,
   "metadata": {},
   "outputs": [],
   "source": [
    "def qaoa_nitial_state(n_qubits=1):\n",
    "    qc = QuantumCircuit()\n",
    "    \n",
    "    return qc"
   ]
  },
  {
   "cell_type": "code",
   "execution_count": 14,
   "metadata": {},
   "outputs": [],
   "source": [
    "### Solution ###\n",
    "def qaoa_initial_state(n_qubits=1):\n",
    "    qc = QuantumCircuit(n_qubits, name=\"$S$\")\n",
    "    qc.h(range(n_qubits))\n",
    "\n",
    "    return qc"
   ]
  },
  {
   "cell_type": "code",
   "execution_count": 11,
   "metadata": {},
   "outputs": [
    {
     "data": {
      "image/png": "[encoded data removed]",
      "text/plain": [
       "<Figure size 146.797x264.88 with 1 Axes>"
      ]
     },
     "execution_count": 11,
     "metadata": {},
     "output_type": "execute_result"
    }
   ],
   "source": [
    "n_qubits = 4\n",
    "\n",
    "qc = qaoa_initial_state(n_qubits=n_qubits)\n",
    "\n",
    "qc.draw(output=\"mpl\")"
   ]
  },
  {
   "cell_type": "markdown",
   "metadata": {},
   "source": [
    "<span style=\"color: red;\">EXERCISE 5.3</span> - Compose each block to form the full QAOA circuit. Remember that we want several of layers $p$ to increase the expressivity of our model."
   ]
  },
  {
   "cell_type": "code",
   "execution_count": 89,
   "metadata": {},
   "outputs": [],
   "source": [
    "def QAOA(n_qubits=1, G=None, params=None, p=1):\n",
    "\n",
    "    qc = QuantumCircuit(n_qubits)\n",
    "    qc = qc.compose(qaoa_initial_state(n_qubits=n_qubits))#, range(n_qubits))\n",
    "    qc.barrier()\n",
    "    \n",
    "    for l in range(0,len(params),2):\n",
    "        qc = qc.compose(problem_hamiltonian(G, A, alpha=params[l]))#, range(n_qubits))\n",
    "        qc = qc.compose(initial_hamiltonian(n_qubits=n_qubits, beta=params[l+1]))#, range(n_qubits))\n",
    "        qc.barrier()\n",
    "\n",
    "    return qc \n",
    "    "
   ]
  },
  {
   "cell_type": "code",
   "execution_count": 90,
   "metadata": {},
   "outputs": [
    {
     "data": {
      "image/png": "[encoded data removed]",
      "text/plain": [
       "<Figure size 869.197x264.88 with 1 Axes>"
      ]
     },
     "execution_count": 90,
     "metadata": {},
     "output_type": "execute_result"
    }
   ],
   "source": [
    "n_qubits = 4\n",
    "\n",
    "p=1\n",
    "params = np.ones(2*p)\n",
    "\n",
    "full_qaoa_circuit = QAOA(n_qubits=n_qubits, G=G, params=params, p=p)\n",
    "full_qaoa_circuit.draw(output=\"mpl\")"
   ]
  },
  {
   "cell_type": "markdown",
   "metadata": {},
   "source": [
    "<span style=\"color: red;\">EXERCISE 5.4</span> - Define a function that return the cost in terms of the number of layers you put in QAOA circuit"
   ]
  },
  {
   "cell_type": "code",
   "execution_count": 144,
   "metadata": {},
   "outputs": [],
   "source": [
    "def loss_function(x,counts):\n",
    "    loss=0\n",
    "    for i, j in G.edges():\n",
    "        if x[i] != x[j]:\n",
    "            loss -= 1\n",
    "        \n",
    "    loss *= counts\n",
    "    return loss"
   ]
  },
  {
   "cell_type": "code",
   "execution_count": 145,
   "metadata": {},
   "outputs": [],
   "source": [
    "def cost_function(n_qubits=1, G=None, params=None, p=1):\n",
    "\n",
    "    full_qaoa_circuit = QAOA(n_qubits=n_qubits, G=G, params=params, p=p)\n",
    "    full_qaoa_circuit.measure_all()\n",
    "\n",
    "    shots = 2048\n",
    "    counts  = execute_circuit(full_qaoa_circuit, shots=shots)\n",
    "\n",
    "    cost = 0\n",
    "    for (x,c) in counts.items():\n",
    "        cost+=loss_function(x, c)\n",
    "    \n",
    "    cost /= shots\n",
    "\n",
    "    return cost"
   ]
  },
  {
   "cell_type": "code",
   "execution_count": 139,
   "metadata": {},
   "outputs": [
    {
     "name": "stdout",
     "output_type": "stream",
     "text": [
      "-0.1796875\n"
     ]
    }
   ],
   "source": [
    "print(cost_function(n_qubits=n_qubits, G=G, params=np.ones(2*p), p=1))\n"
   ]
  },
  {
   "cell_type": "markdown",
   "metadata": {},
   "source": [
    "### Maximize cut"
   ]
  },
  {
   "cell_type": "code",
   "execution_count": 156,
   "metadata": {},
   "outputs": [
    {
     "data": {
      "text/plain": [
       "array([1.9483459 , 1.16054724])"
      ]
     },
     "execution_count": 156,
     "metadata": {},
     "output_type": "execute_result"
    }
   ],
   "source": [
    "from qiskit.algorithms.optimizers import COBYLA\n",
    "\n",
    "p=1\n",
    "pp = np.ones(2*p)\n",
    "\n",
    "optimizer = COBYLA()\n",
    "\n",
    "objective_function = lambda pp: cost_function(n_qubits=n_qubits, G=G, params=pp, p=p)\n",
    "\n",
    "opt_var, opt_value, _ = optimizer.optimize(2*p, objective_function, initial_point=pp)\n",
    "\n",
    "opt_var"
   ]
  },
  {
   "cell_type": "markdown",
   "metadata": {},
   "source": [
    "<span style=\"color: red;\">EXERCISE 5.5</span> - Extract basis state with higher probability"
   ]
  },
  {
   "cell_type": "code",
   "execution_count": 157,
   "metadata": {},
   "outputs": [
    {
     "data": {
      "image/png": "[encoded data removed]",
      "text/plain": [
       "<Figure size 504x360 with 1 Axes>"
      ]
     },
     "execution_count": 157,
     "metadata": {},
     "output_type": "execute_result"
    }
   ],
   "source": [
    "new_qc = QAOA(n_qubits=n_qubits, G=G, params=opt_var, p=p)\n",
    "new_qc.measure_all()\n",
    "\n",
    "#new_qc.decompose().draw(output=\"mpl\")\n",
    "counts = execute_circuit(new_qc, device=Aer.get_backend('qasm_simulator') )\n",
    "plot_histogram(counts)"
   ]
  },
  {
   "cell_type": "markdown",
   "metadata": {},
   "source": [
    "<span style=\"color: red;\">EXERCISE 5.6</span> - Test QAOA for increased number of layers."
   ]
  },
  {
   "cell_type": "markdown",
   "metadata": {},
   "source": [
    "#### 6. References\n",
    "[1] - Ising formulations of many NP problems - https://arxiv.org/pdf/1302.5843.pdf\n",
    "\n",
    "[2] - Quantum computation by adiabatic evolution - https://arxiv.org/abs/quant-ph/0001106\n",
    "\n",
    "[3] - A Quantum Approximate Optimization Algorithm - https://arxiv.org/abs/1411.4028\n",
    "\n",
    "[4] - From the Quantum Approximate Optimization Algorithm to a Quantum Alternating Operator Ansatz - https://arxiv.org/abs/1709.03489\n",
    "\n",
    "[5] - Quantum Approximate Optimization Algorithm - https://qiskit.org/documentation/tutorials/algorithms/05_qaoa.html\n",
    "\n",
    "[6] - Lecture 5.2 - Introduction to the Quantum Approximate Optimization Algorithm and Applications - https://www.youtube.com/watch?v=YpLzSQPrgSc&list=PLOFEBzvs-VvqJwybFxkTiDzhf5E11p8BI&index=14\n",
    "\n",
    "\n"
   ]
  },
  {
   "cell_type": "markdown",
   "metadata": {},
   "source": [
    "Done! Ciao for now :)"
   ]
  }
 ],
 "metadata": {
  "interpreter": {
   "hash": "62314c999a2395b70c6666201aadb026cfae52075e045b8f587202e06e575832"
  },
  "kernelspec": {
   "display_name": "Python 3.10.1 ('quantum_DS')",
   "language": "python",
   "name": "python3"
  },
  "language_info": {
   "codemirror_mode": {
    "name": "ipython",
    "version": 3
   },
   "file_extension": ".py",
   "mimetype": "text/x-python",
   "name": "python",
   "nbconvert_exporter": "python",
   "pygments_lexer": "ipython3",
   "version": "3.10.1"
  },
  "orig_nbformat": 4
 },
 "nbformat": 4,
 "nbformat_minor": 2
}
